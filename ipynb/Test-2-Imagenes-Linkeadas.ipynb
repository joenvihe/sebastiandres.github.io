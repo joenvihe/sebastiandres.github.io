{
 "cells": [
  {
   "cell_type": "markdown",
   "metadata": {},
   "source": [
    "En este post/notebook exploraremos cómo insertar imágenes ya existentes.\n",
    "\n",
    "## 1 - Resumen\n",
    " * Es posible usar `<img alt='JPG' src='my_url'>` para insertar imágenes en markdown. Deben tener extensión jpg, png o gif (incluso gifs animados). Redimensionan automáticamente menos que se use height/width.\n",
    " * Es posible usar `IPython.diplay.HTML(<img alt='JPG' src='my_url'>)` para insertar imágenes desde el código. Deben tener extensión jpg o png. Los gif ahí si me funcionaron nuevamente."
   ]
  },
  {
   "cell_type": "markdown",
   "metadata": {},
   "source": [
    "## 2 - Imágenes desde markdown\n",
    "\n",
    "### JPG\n",
    "<img alt='JPG' src='https://raw.githubusercontent.com/sebastiandres/sebastiandres.github.io/master/images/test/colores.jpg'  height=\"200\" width=\"200\">\n",
    "\n",
    "### PNG\n",
    "<img alt='PNG' src='https://raw.githubusercontent.com/sebastiandres/sebastiandres.github.io/master/images/test/colores.png' height=\"200\" width=\"200\">\n",
    "\n",
    "### GIF \n",
    "<img alt='GIF' src='https://raw.githubusercontent.com/sebastiandres/sebastiandres.github.io/master/images/test/colores.gif' height=\"200\" width=\"200\">\n",
    "\n",
    "### GIF (animated)\n",
    "<img alt='Animated GIF' src='https://raw.githubusercontent.com/sebastiandres/sebastiandres.github.io/master/images/test/pbjt.gif'>\n"
   ]
  },
  {
   "cell_type": "markdown",
   "metadata": {},
   "source": [
    "## 3 - Imágenes con código, utilizando IPython.display.HTML()\n",
    "Es posible rehacer los mismo que directamente con html."
   ]
  },
  {
   "cell_type": "code",
   "execution_count": 1,
   "metadata": {
    "collapsed": false
   },
   "outputs": [
    {
     "data": {
      "text/html": [
       "<img src='https://raw.githubusercontent.com/sebastiandres/sebastiandres.github.io/master/images/test/colores.jpg' height='200' width='200'>"
      ],
      "text/plain": [
       "<IPython.core.display.HTML object>"
      ]
     },
     "execution_count": 1,
     "metadata": {},
     "output_type": "execute_result"
    }
   ],
   "source": [
    "from IPython.display import HTML\n",
    "template = \"<img src='{0}' height='200' width='200'>\"\n",
    "url = 'https://raw.githubusercontent.com/sebastiandres/sebastiandres.github.io/master/images/test/colores.jpg'\n",
    "HTML(template.format(url))"
   ]
  },
  {
   "cell_type": "code",
   "execution_count": 2,
   "metadata": {
    "collapsed": false
   },
   "outputs": [
    {
     "data": {
      "text/html": [
       "<img src='https://raw.githubusercontent.com/sebastiandres/sebastiandres.github.io/master/images/test/colores.png' height='200' width='200'>"
      ],
      "text/plain": [
       "<IPython.core.display.HTML object>"
      ]
     },
     "execution_count": 2,
     "metadata": {},
     "output_type": "execute_result"
    }
   ],
   "source": [
    "url = 'https://raw.githubusercontent.com/sebastiandres/sebastiandres.github.io/master/images/test/colores.png'\n",
    "HTML(template.format(url))"
   ]
  },
  {
   "cell_type": "code",
   "execution_count": 3,
   "metadata": {
    "collapsed": false
   },
   "outputs": [
    {
     "data": {
      "text/html": [
       "<img src='https://raw.githubusercontent.com/sebastiandres/sebastiandres.github.io/master/images/test/colores.gif' height='200' width='200'>"
      ],
      "text/plain": [
       "<IPython.core.display.HTML object>"
      ]
     },
     "execution_count": 3,
     "metadata": {},
     "output_type": "execute_result"
    }
   ],
   "source": [
    "url = 'https://raw.githubusercontent.com/sebastiandres/sebastiandres.github.io/master/images/test/colores.gif'\n",
    "HTML(template.format(url))"
   ]
  },
  {
   "cell_type": "code",
   "execution_count": 5,
   "metadata": {
    "collapsed": false
   },
   "outputs": [
    {
     "data": {
      "text/html": [
       "<img src='https://raw.githubusercontent.com/sebastiandres/sebastiandres.github.io/master/images/test/pbjt.gif' height='200' width='200'>"
      ],
      "text/plain": [
       "<IPython.core.display.HTML object>"
      ]
     },
     "execution_count": 5,
     "metadata": {},
     "output_type": "execute_result"
    }
   ],
   "source": [
    "url = 'https://raw.githubusercontent.com/sebastiandres/sebastiandres.github.io/master/images/test/pbjt.gif'\n",
    "HTML(template.format(url))"
   ]
  }
 ],
 "metadata": {
  "kernelspec": {
   "display_name": "Python 3",
   "language": "python",
   "name": "python3"
  },
  "language_info": {
   "codemirror_mode": {
    "name": "ipython",
    "version": 3
   },
   "file_extension": ".py",
   "mimetype": "text/x-python",
   "name": "python",
   "nbconvert_exporter": "python",
   "pygments_lexer": "ipython3",
   "version": "3.4.0"
  }
 },
 "nbformat": 4,
 "nbformat_minor": 0
}
